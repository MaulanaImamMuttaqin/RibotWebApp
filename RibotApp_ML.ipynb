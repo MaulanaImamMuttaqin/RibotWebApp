{
  "nbformat": 4,
  "nbformat_minor": 0,
  "metadata": {
    "colab": {
      "name": "RibotApp_ML",
      "provenance": [],
      "collapsed_sections": [],
      "toc_visible": true
    },
    "kernelspec": {
      "name": "python3",
      "display_name": "Python 3"
    },
    "language_info": {
      "name": "python"
    }
  },
  "cells": [
    {
      "cell_type": "markdown",
      "metadata": {
        "id": "GMZah6f4Kc3O"
      },
      "source": [
        "##Making the Model"
      ]
    },
    {
      "cell_type": "code",
      "metadata": {
        "id": "oaLcB67f2sMV"
      },
      "source": [
        "import pandas as pd\n",
        "import numpy as np\n",
        "import tensorflow as tf\n",
        "import zipfile \n",
        "import os\n",
        "\n",
        "from tensorflow.keras import layers\n",
        "from tensorflow.keras.layers.experimental import preprocessing\n",
        "from google.colab import drive"
      ],
      "execution_count": null,
      "outputs": []
    },
    {
      "cell_type": "markdown",
      "metadata": {
        "id": "K9fFQqR2cZT1"
      },
      "source": [
        "You need to have your Kaggle API token to download this dataset from kaggle. The name of the file should be 'kaggle.json'. You can download it from your account's settings. You can manually download the dataset and upload it to google colab https://www.kaggle.com/muhammadghazy/weightheightbmicategoryv2 ."
      ]
    },
    {
      "cell_type": "code",
      "metadata": {
        "colab": {
          "resources": {
            "http://localhost:8080/nbextensions/google.colab/files.js": {
              "data": "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",
              "ok": true,
              "headers": [
                [
                  "content-type",
                  "application/javascript"
                ]
              ],
              "status": 200,
              "status_text": ""
            }
          },
          "base_uri": "https://localhost:8080/",
          "height": 91
        },
        "id": "AaPdYXAni-P_",
        "outputId": "dd87e114-0fba-4e62-d0b7-4411863fc6fe"
      },
      "source": [
        "from google.colab import files\n",
        "files.upload()"
      ],
      "execution_count": null,
      "outputs": [
        {
          "output_type": "display_data",
          "data": {
            "text/html": [
              "\n",
              "     <input type=\"file\" id=\"files-11a6adfe-d37b-48cb-b252-75194078915d\" name=\"files[]\" multiple disabled\n",
              "        style=\"border:none\" />\n",
              "     <output id=\"result-11a6adfe-d37b-48cb-b252-75194078915d\">\n",
              "      Upload widget is only available when the cell has been executed in the\n",
              "      current browser session. Please rerun this cell to enable.\n",
              "      </output>\n",
              "      <script src=\"/nbextensions/google.colab/files.js\"></script> "
            ],
            "text/plain": [
              "<IPython.core.display.HTML object>"
            ]
          },
          "metadata": {
            "tags": []
          }
        },
        {
          "output_type": "stream",
          "text": [
            "Saving kaggle.json to kaggle.json\n"
          ],
          "name": "stdout"
        },
        {
          "output_type": "execute_result",
          "data": {
            "text/plain": [
              "{'kaggle.json': b'{\"username\":\"muhammadghazy\",\"key\":\"46ce4c67d3e08a2733a683cadd60815e\"}'}"
            ]
          },
          "metadata": {
            "tags": []
          },
          "execution_count": 2
        }
      ]
    },
    {
      "cell_type": "code",
      "metadata": {
        "id": "4fM3PMskjIFa"
      },
      "source": [
        "!mkdir -p ~/.kaggle\n",
        "!cp kaggle.json ~/.kaggle/\n",
        "!chmod 600 ~/.kaggle/kaggle.json"
      ],
      "execution_count": null,
      "outputs": []
    },
    {
      "cell_type": "code",
      "metadata": {
        "colab": {
          "base_uri": "https://localhost:8080/"
        },
        "id": "1QEwjRbLjREK",
        "outputId": "5469dac9-2923-45cc-ed65-923213d7fd69"
      },
      "source": [
        "!kaggle datasets download -d muhammadghazy/weightheightbmicategoryv2"
      ],
      "execution_count": null,
      "outputs": [
        {
          "output_type": "stream",
          "text": [
            "Downloading weightheightbmicategoryv2.zip to /content\n",
            "\r  0% 0.00/911k [00:00<?, ?B/s]\n",
            "\r100% 911k/911k [00:00<00:00, 59.5MB/s]\n"
          ],
          "name": "stdout"
        }
      ]
    },
    {
      "cell_type": "code",
      "metadata": {
        "id": "mHpUa1p0l-VK"
      },
      "source": [
        "zip_ref = zipfile.ZipFile(\"weightheightbmicategoryv2.zip\", \"r\")\n",
        "zip_ref.extractall(\"files\")\n",
        "zip_ref.close()"
      ],
      "execution_count": null,
      "outputs": []
    },
    {
      "cell_type": "code",
      "metadata": {
        "colab": {
          "base_uri": "https://localhost:8080/"
        },
        "id": "jSaV_MDLMbnr",
        "outputId": "c937e005-d681-435a-a6ed-6f0e6f91a4c1"
      },
      "source": [
        "!ls"
      ],
      "execution_count": null,
      "outputs": [
        {
          "output_type": "stream",
          "text": [
            "files  kaggle.json  sample_data  weightheightbmicategoryv2.zip\n"
          ],
          "name": "stdout"
        }
      ]
    },
    {
      "cell_type": "code",
      "metadata": {
        "colab": {
          "base_uri": "https://localhost:8080/"
        },
        "id": "r78ZYDsJmVf9",
        "outputId": "4d123960-7dc0-400a-9074-28f39321942e"
      },
      "source": [
        "data_train = pd.read_excel('/content/files/weight-height-bmi-v2.xlsx')\n",
        "data_train_label = pd.read_excel('/content/files/weight-height-bmi-v2.xlsx').pop(\"category\")\n",
        "data_train_label"
      ],
      "execution_count": null,
      "outputs": [
        {
          "output_type": "execute_result",
          "data": {
            "text/plain": [
              "0             Obese\n",
              "1       Underweight\n",
              "2        Overweight\n",
              "3        Overweight\n",
              "4        Overweight\n",
              "           ...     \n",
              "9995    Underweight\n",
              "9996     Overweight\n",
              "9997    Underweight\n",
              "9998     Overweight\n",
              "9999    Underweight\n",
              "Name: category, Length: 10000, dtype: object"
            ]
          },
          "metadata": {
            "tags": []
          },
          "execution_count": 7
        }
      ]
    },
    {
      "cell_type": "code",
      "metadata": {
        "id": "aPsBtfwf8feD"
      },
      "source": [
        "data_train.drop(\"bmi\",inplace=True,axis=1)\n",
        "data_train.drop(\"id\",inplace=True,axis=1)\n",
        "data_train.drop(\"category\",inplace=True,axis=1)\n",
        "data_train_features = np.array(data_train)"
      ],
      "execution_count": null,
      "outputs": []
    },
    {
      "cell_type": "code",
      "metadata": {
        "id": "BJQTNJkL_hQ4"
      },
      "source": [
        "def conv(x):\n",
        "  if x==\"Underweight\":\n",
        "    return 0\n",
        "  if x==\"Normal\":\n",
        "    return 1\n",
        "  if x==\"Overweight\":\n",
        "    return 2\n",
        "  if x==\"Obese\":\n",
        "    return 3\n",
        "\n",
        "data_train_label = data_train_label.map(conv)"
      ],
      "execution_count": null,
      "outputs": []
    },
    {
      "cell_type": "code",
      "metadata": {
        "id": "Vz7QMn4W-YCn"
      },
      "source": [
        "model = tf.keras.Sequential([\n",
        "                             layers.Dense(2),\n",
        "                             layers.Dense(32,activation=tf.nn.relu),\n",
        "                             layers.Dense(32,activation=tf.nn.relu),\n",
        "                             layers.Dense(4,activation=\"softmax\")\n",
        "])\n",
        "\n",
        "\n",
        "model.compile(optimizer='adam', loss='sparse_categorical_crossentropy', metrics=['accuracy'])"
      ],
      "execution_count": null,
      "outputs": []
    },
    {
      "cell_type": "code",
      "metadata": {
        "colab": {
          "base_uri": "https://localhost:8080/"
        },
        "id": "gXOtNBXGc3Hf",
        "outputId": "f850619e-309d-456a-ad8e-235b900756ef"
      },
      "source": [
        "model.fit(data_train_features, data_train_label, epochs=40)"
      ],
      "execution_count": null,
      "outputs": [
        {
          "output_type": "stream",
          "text": [
            "Epoch 1/40\n",
            "313/313 [==============================] - 1s 1ms/step - loss: 2.6543 - accuracy: 0.6528\n",
            "Epoch 2/40\n",
            "313/313 [==============================] - 0s 1ms/step - loss: 0.5364 - accuracy: 0.7589\n",
            "Epoch 3/40\n",
            "313/313 [==============================] - 0s 1ms/step - loss: 0.5422 - accuracy: 0.7580\n",
            "Epoch 4/40\n",
            "313/313 [==============================] - 0s 1ms/step - loss: 0.5536 - accuracy: 0.7591\n",
            "Epoch 5/40\n",
            "313/313 [==============================] - 0s 1ms/step - loss: 0.5227 - accuracy: 0.7699\n",
            "Epoch 6/40\n",
            "313/313 [==============================] - 0s 1ms/step - loss: 0.5318 - accuracy: 0.7588\n",
            "Epoch 7/40\n",
            "313/313 [==============================] - 0s 1ms/step - loss: 0.5085 - accuracy: 0.7727\n",
            "Epoch 8/40\n",
            "313/313 [==============================] - 0s 1ms/step - loss: 0.5323 - accuracy: 0.7641\n",
            "Epoch 9/40\n",
            "313/313 [==============================] - 0s 1ms/step - loss: 0.5110 - accuracy: 0.7732\n",
            "Epoch 10/40\n",
            "313/313 [==============================] - 0s 1ms/step - loss: 0.4916 - accuracy: 0.7802\n",
            "Epoch 11/40\n",
            "313/313 [==============================] - 0s 1ms/step - loss: 0.5083 - accuracy: 0.7753\n",
            "Epoch 12/40\n",
            "313/313 [==============================] - 0s 1ms/step - loss: 0.4795 - accuracy: 0.7825\n",
            "Epoch 13/40\n",
            "313/313 [==============================] - 0s 1ms/step - loss: 0.4603 - accuracy: 0.7900\n",
            "Epoch 14/40\n",
            "313/313 [==============================] - 0s 1ms/step - loss: 0.4684 - accuracy: 0.7877\n",
            "Epoch 15/40\n",
            "313/313 [==============================] - 0s 1ms/step - loss: 0.4546 - accuracy: 0.7927\n",
            "Epoch 16/40\n",
            "313/313 [==============================] - 0s 1ms/step - loss: 0.4439 - accuracy: 0.7992\n",
            "Epoch 17/40\n",
            "313/313 [==============================] - 0s 1ms/step - loss: 0.4372 - accuracy: 0.8019\n",
            "Epoch 18/40\n",
            "313/313 [==============================] - 0s 1ms/step - loss: 0.4359 - accuracy: 0.8023\n",
            "Epoch 19/40\n",
            "313/313 [==============================] - 0s 1ms/step - loss: 0.4229 - accuracy: 0.8043\n",
            "Epoch 20/40\n",
            "313/313 [==============================] - 0s 1ms/step - loss: 0.4117 - accuracy: 0.8168\n",
            "Epoch 21/40\n",
            "313/313 [==============================] - 0s 1ms/step - loss: 0.4001 - accuracy: 0.8238\n",
            "Epoch 22/40\n",
            "313/313 [==============================] - 0s 1ms/step - loss: 0.3828 - accuracy: 0.8327\n",
            "Epoch 23/40\n",
            "313/313 [==============================] - 0s 1ms/step - loss: 0.3803 - accuracy: 0.8317\n",
            "Epoch 24/40\n",
            "313/313 [==============================] - 0s 1ms/step - loss: 0.3572 - accuracy: 0.8430\n",
            "Epoch 25/40\n",
            "313/313 [==============================] - 0s 1ms/step - loss: 0.3391 - accuracy: 0.8501\n",
            "Epoch 26/40\n",
            "313/313 [==============================] - 0s 1ms/step - loss: 0.3221 - accuracy: 0.8630\n",
            "Epoch 27/40\n",
            "313/313 [==============================] - 0s 1ms/step - loss: 0.2943 - accuracy: 0.8748\n",
            "Epoch 28/40\n",
            "313/313 [==============================] - 0s 1ms/step - loss: 0.2622 - accuracy: 0.8956\n",
            "Epoch 29/40\n",
            "313/313 [==============================] - 0s 1ms/step - loss: 0.2445 - accuracy: 0.9041\n",
            "Epoch 30/40\n",
            "313/313 [==============================] - 0s 1ms/step - loss: 0.2357 - accuracy: 0.9043\n",
            "Epoch 31/40\n",
            "313/313 [==============================] - 0s 1ms/step - loss: 0.2238 - accuracy: 0.9110\n",
            "Epoch 32/40\n",
            "313/313 [==============================] - 0s 1ms/step - loss: 0.2048 - accuracy: 0.9229\n",
            "Epoch 33/40\n",
            "313/313 [==============================] - 0s 1ms/step - loss: 0.1886 - accuracy: 0.9337\n",
            "Epoch 34/40\n",
            "313/313 [==============================] - 0s 1ms/step - loss: 0.1830 - accuracy: 0.9305\n",
            "Epoch 35/40\n",
            "313/313 [==============================] - 0s 1ms/step - loss: 0.1718 - accuracy: 0.9356\n",
            "Epoch 36/40\n",
            "313/313 [==============================] - 0s 1ms/step - loss: 0.1640 - accuracy: 0.9387\n",
            "Epoch 37/40\n",
            "313/313 [==============================] - 0s 1ms/step - loss: 0.1582 - accuracy: 0.9422\n",
            "Epoch 38/40\n",
            "313/313 [==============================] - 0s 1ms/step - loss: 0.1603 - accuracy: 0.9377\n",
            "Epoch 39/40\n",
            "313/313 [==============================] - 0s 1ms/step - loss: 0.1380 - accuracy: 0.9523\n",
            "Epoch 40/40\n",
            "313/313 [==============================] - 0s 1ms/step - loss: 0.1358 - accuracy: 0.9517\n"
          ],
          "name": "stdout"
        },
        {
          "output_type": "execute_result",
          "data": {
            "text/plain": [
              "<tensorflow.python.keras.callbacks.History at 0x7f4c1b428690>"
            ]
          },
          "metadata": {
            "tags": []
          },
          "execution_count": 11
        }
      ]
    },
    {
      "cell_type": "code",
      "metadata": {
        "colab": {
          "base_uri": "https://localhost:8080/"
        },
        "id": "_qJLWuDFdY0R",
        "outputId": "5638e5c6-4f0a-4c48-cbf7-61a6334e3614"
      },
      "source": [
        "model.summary()"
      ],
      "execution_count": null,
      "outputs": [
        {
          "output_type": "stream",
          "text": [
            "Model: \"sequential\"\n",
            "_________________________________________________________________\n",
            "Layer (type)                 Output Shape              Param #   \n",
            "=================================================================\n",
            "dense (Dense)                (None, 2)                 6         \n",
            "_________________________________________________________________\n",
            "dense_1 (Dense)              (None, 32)                96        \n",
            "_________________________________________________________________\n",
            "dense_2 (Dense)              (None, 32)                1056      \n",
            "_________________________________________________________________\n",
            "dense_3 (Dense)              (None, 4)                 132       \n",
            "=================================================================\n",
            "Total params: 1,290\n",
            "Trainable params: 1,290\n",
            "Non-trainable params: 0\n",
            "_________________________________________________________________\n"
          ],
          "name": "stdout"
        }
      ]
    },
    {
      "cell_type": "code",
      "metadata": {
        "id": "lUheqk86HgPu"
      },
      "source": [
        "def matching(array,classes):\n",
        "  i = array[0].tolist().index(np.max(array))\n",
        "  return classes[i]\n",
        "\n",
        "category = [\"Underweight\",\"Normal\",\"Overweight\",\"Obese\"]"
      ],
      "execution_count": null,
      "outputs": []
    },
    {
      "cell_type": "markdown",
      "metadata": {
        "id": "HptvcUYefGdF"
      },
      "source": [
        "Testing the Model"
      ]
    },
    {
      "cell_type": "code",
      "metadata": {
        "colab": {
          "base_uri": "https://localhost:8080/"
        },
        "id": "OOlLbCUsLuqK",
        "outputId": "fee5f7ec-615b-453b-e4ff-fc455c8231aa"
      },
      "source": [
        "berat = float(input(\"Berapa berat kamu?(Kg) \"))\n",
        "tinggi = float(input(\"Berapa tinggi kamu?(Cm) \"))\n",
        "  \n",
        "data = np.array([[tinggi,berat]])\n",
        "pred = model.predict(data)\n",
        "result = matching(pred,category)\n",
        "print(\"Dengan berat {} kg dan tinggi {} m, maka kondisi badan kamu adalah {}\".format(berat,tinggi,result))"
      ],
      "execution_count": null,
      "outputs": [
        {
          "output_type": "stream",
          "text": [
            "Berapa berat kamu?(Kg) 40\n",
            "Berapa tinggi kamu?(Cm) 175\n",
            "Dengan berat 40.0 kg dan tinggi 175.0 m, maka kondisi badan kamu adalah Underweight\n"
          ],
          "name": "stdout"
        }
      ]
    },
    {
      "cell_type": "markdown",
      "metadata": {
        "id": "vSdzCr2hKV8A"
      },
      "source": [
        "## Export Model to .tflite"
      ]
    },
    {
      "cell_type": "code",
      "metadata": {
        "colab": {
          "base_uri": "https://localhost:8080/"
        },
        "id": "Rd4KYYsGHJzk",
        "outputId": "7baa9778-450c-4cf0-97d1-6b0be6406501"
      },
      "source": [
        "# EXERCISE: Use the tf.saved_model API to save your model in the SavedModel format. \n",
        "export_dir = '/media/1'\n",
        "tf.saved_model.save(model,export_dir)"
      ],
      "execution_count": null,
      "outputs": [
        {
          "output_type": "stream",
          "text": [
            "INFO:tensorflow:Assets written to: /media/1/assets\n"
          ],
          "name": "stdout"
        }
      ]
    },
    {
      "cell_type": "code",
      "metadata": {
        "id": "bPYTL6-lKHA2"
      },
      "source": [
        "# Select mode of optimization\n",
        "mode = \"Speed\" \n",
        "\n",
        "if mode == 'Storage':\n",
        "    optimization = tf.lite.Optimize.OPTIMIZE_FOR_SIZE\n",
        "elif mode == 'Speed':\n",
        "    optimization = tf.lite.Optimize.OPTIMIZE_FOR_LATENCY\n",
        "else:\n",
        "    optimization = tf.lite.Optimize.DEFAULT"
      ],
      "execution_count": null,
      "outputs": []
    },
    {
      "cell_type": "code",
      "metadata": {
        "id": "ShipX3_kKH8n"
      },
      "source": [
        "# EXERCISE: Use the TFLiteConverter SavedModel API to initialize the converter\n",
        "import pathlib\n",
        "\n",
        "converter = tf.lite.TFLiteConverter.from_saved_model(export_dir)\n",
        "\n",
        "# Set the optimzations\n",
        "converter.optimizations = [tf.lite.Optimize.OPTIMIZE_FOR_LATENCY]# YOUR CODE HERE\n",
        "\n",
        "# Invoke the converter to finally generate the TFLite model\n",
        "tflite_model = converter.convert()# YOUR CODE HERE"
      ],
      "execution_count": null,
      "outputs": []
    },
    {
      "cell_type": "code",
      "metadata": {
        "colab": {
          "base_uri": "https://localhost:8080/"
        },
        "id": "-uiWH67rKI_i",
        "outputId": "183254af-c434-4c51-8438-978613719c00"
      },
      "source": [
        "tflite_model_file = pathlib.Path('./model.tflite')\n",
        "tflite_model_file.write_bytes(tflite_model)"
      ],
      "execution_count": null,
      "outputs": [
        {
          "output_type": "execute_result",
          "data": {
            "text/plain": [
              "4288"
            ]
          },
          "metadata": {
            "tags": []
          },
          "execution_count": 25
        }
      ]
    },
    {
      "cell_type": "markdown",
      "metadata": {
        "id": "E_IFrhvqLhjl"
      },
      "source": [
        "##Deploying to firebase"
      ]
    },
    {
      "cell_type": "code",
      "metadata": {
        "id": "zrM4qOHNLj9L"
      },
      "source": [
        "import firebase_admin\n",
        "from firebase_admin import ml\n",
        "from firebase_admin import credentials\n",
        "\n",
        "\n",
        "firebase_admin.initialize_app(\n",
        "  credentials.Certificate(\"serviceAccountKey.json\"),options={\n",
        "      'storageBucket': 'gs://ninth-incentive-312907.appspot.com',\n",
        "  })"
      ],
      "execution_count": null,
      "outputs": []
    },
    {
      "cell_type": "code",
      "metadata": {
        "id": "l76Md88sLzAQ"
      },
      "source": [
        "# First, import and initialize the SDK as shown above.\n",
        "\n",
        "# Load a tflite file and upload it to Cloud Storage\n",
        "source = ml.TFLiteGCSModelSource.from_tflite_model_file('model.tflite')\n",
        "\n",
        "# Create the model object\n",
        "tflite_format = ml.TFLiteFormat(model_source=source)\n",
        "model = ml.Model(\n",
        "    display_name=\"BMI_Predictor\",  # This is the name you use from your app to load the model.\n",
        "    tags=[\"ML_model\"],             # Optional tags for easier management.\n",
        "    model_format=tflite_format)\n",
        "\n",
        "# Add the model to your Firebase project and publish it\n",
        "new_model = ml.create_model(model)\n",
        "ml.publish_model(new_model.model_id)"
      ],
      "execution_count": null,
      "outputs": []
    }
  ]
}